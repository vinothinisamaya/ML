{
  "nbformat": 4,
  "nbformat_minor": 0,
  "metadata": {
    "colab": {
      "name": "Untitled41.ipynb",
      "provenance": [],
      "collapsed_sections": [],
      "authorship_tag": "ABX9TyNmtaAy6M4dVVb/LPzzj8cG",
      "include_colab_link": true
    },
    "kernelspec": {
      "name": "python3",
      "display_name": "Python 3"
    }
  },
  "cells": [
    {
      "cell_type": "markdown",
      "metadata": {
        "id": "view-in-github",
        "colab_type": "text"
      },
      "source": [
        "<a href=\"https://colab.research.google.com/github/vinothinisamaya/ML/blob/main/Untitled41.ipynb\" target=\"_parent\"><img src=\"https://colab.research.google.com/assets/colab-badge.svg\" alt=\"Open In Colab\"/></a>"
      ]
    },
    {
      "cell_type": "code",
      "metadata": {
        "id": "uS7lSFcekDmF"
      },
      "source": [
        "import numpy as np\r\n",
        "_=np.random.seed(123456)"
      ],
      "execution_count": 2,
      "outputs": []
    },
    {
      "cell_type": "code",
      "metadata": {
        "id": "hx3Lq1uCkEWa"
      },
      "source": [
        "arr=np.arange(0,10,2)"
      ],
      "execution_count": null,
      "outputs": []
    },
    {
      "cell_type": "code",
      "metadata": {
        "colab": {
          "base_uri": "https://localhost:8080/"
        },
        "id": "18auEm4dkiFQ",
        "outputId": "0aa8f02d-8e8c-4dac-e2c5-35a2d402e639"
      },
      "source": [
        "arr"
      ],
      "execution_count": null,
      "outputs": [
        {
          "output_type": "execute_result",
          "data": {
            "text/plain": [
              "array([0, 2, 4, 6, 8])"
            ]
          },
          "metadata": {
            "tags": []
          },
          "execution_count": 6
        }
      ]
    },
    {
      "cell_type": "code",
      "metadata": {
        "id": "Uoy0i3pikrQW"
      },
      "source": [
        "arr_zero= np.zeros_like(7)"
      ],
      "execution_count": null,
      "outputs": []
    },
    {
      "cell_type": "code",
      "metadata": {
        "colab": {
          "base_uri": "https://localhost:8080/"
        },
        "id": "53wuQirIk19c",
        "outputId": "62d248cf-771c-4735-e75b-54032da2d2b5"
      },
      "source": [
        "arr_zero"
      ],
      "execution_count": null,
      "outputs": [
        {
          "output_type": "execute_result",
          "data": {
            "text/plain": [
              "array(0)"
            ]
          },
          "metadata": {
            "tags": []
          },
          "execution_count": 10
        }
      ]
    },
    {
      "cell_type": "code",
      "metadata": {
        "id": "GMvb_CQak3iK"
      },
      "source": [
        "arr_lin=np.linspace(1,5,50)"
      ],
      "execution_count": null,
      "outputs": []
    },
    {
      "cell_type": "code",
      "metadata": {
        "colab": {
          "base_uri": "https://localhost:8080/"
        },
        "id": "nanZt9E8l9oo",
        "outputId": "1c3da45e-dfd3-49cf-9c22-01f92b51528b"
      },
      "source": [
        "arr_lin"
      ],
      "execution_count": null,
      "outputs": [
        {
          "output_type": "execute_result",
          "data": {
            "text/plain": [
              "array([1.        , 1.08163265, 1.16326531, 1.24489796, 1.32653061,\n",
              "       1.40816327, 1.48979592, 1.57142857, 1.65306122, 1.73469388,\n",
              "       1.81632653, 1.89795918, 1.97959184, 2.06122449, 2.14285714,\n",
              "       2.2244898 , 2.30612245, 2.3877551 , 2.46938776, 2.55102041,\n",
              "       2.63265306, 2.71428571, 2.79591837, 2.87755102, 2.95918367,\n",
              "       3.04081633, 3.12244898, 3.20408163, 3.28571429, 3.36734694,\n",
              "       3.44897959, 3.53061224, 3.6122449 , 3.69387755, 3.7755102 ,\n",
              "       3.85714286, 3.93877551, 4.02040816, 4.10204082, 4.18367347,\n",
              "       4.26530612, 4.34693878, 4.42857143, 4.51020408, 4.59183673,\n",
              "       4.67346939, 4.75510204, 4.83673469, 4.91836735, 5.        ])"
            ]
          },
          "metadata": {
            "tags": []
          },
          "execution_count": 14
        }
      ]
    },
    {
      "cell_type": "code",
      "metadata": {
        "id": "bmFnEh4bl-m9"
      },
      "source": [
        "two_d=np.zeros((3,5))"
      ],
      "execution_count": null,
      "outputs": []
    },
    {
      "cell_type": "code",
      "metadata": {
        "colab": {
          "base_uri": "https://localhost:8080/"
        },
        "id": "nBnmW7-TmLU7",
        "outputId": "e36d5037-dced-4785-fbd2-d0590006cd11"
      },
      "source": [
        "two_d"
      ],
      "execution_count": null,
      "outputs": [
        {
          "output_type": "execute_result",
          "data": {
            "text/plain": [
              "array([[0., 0., 0., 0., 0.],\n",
              "       [0., 0., 0., 0., 0.],\n",
              "       [0., 0., 0., 0., 0.]])"
            ]
          },
          "metadata": {
            "tags": []
          },
          "execution_count": 17
        }
      ]
    },
    {
      "cell_type": "code",
      "metadata": {
        "colab": {
          "base_uri": "https://localhost:8080/"
        },
        "id": "yQottjzgmSBJ",
        "outputId": "98667984-3d5d-452f-c9d8-d8ddccc50cd9"
      },
      "source": [
        "#identity matrix \r\n",
        "identity=np.eye(6)\r\n",
        "identity"
      ],
      "execution_count": null,
      "outputs": [
        {
          "output_type": "execute_result",
          "data": {
            "text/plain": [
              "array([[1., 0., 0., 0., 0., 0.],\n",
              "       [0., 1., 0., 0., 0., 0.],\n",
              "       [0., 0., 1., 0., 0., 0.],\n",
              "       [0., 0., 0., 1., 0., 0.],\n",
              "       [0., 0., 0., 0., 1., 0.],\n",
              "       [0., 0., 0., 0., 0., 1.]])"
            ]
          },
          "metadata": {
            "tags": []
          },
          "execution_count": 18
        }
      ]
    },
    {
      "cell_type": "code",
      "metadata": {
        "colab": {
          "base_uri": "https://localhost:8080/"
        },
        "id": "UP9bpH-Fmdlx",
        "outputId": "0fd322cf-b773-4839-9fc5-54307a95ed08"
      },
      "source": [
        " #random.rand(), we can generate an array of random numbers of the shape we pass to it from uniform distribution over 0 to 1.\r\n",
        " #(4 rows and 1 columns)\r\n",
        "\r\n",
        " unif_1d=np.random.rand(4,1)\r\n",
        " unif_1d"
      ],
      "execution_count": null,
      "outputs": [
        {
          "output_type": "execute_result",
          "data": {
            "text/plain": [
              "array([[0.34044494],\n",
              "       [0.98472874],\n",
              "       [0.9195404 ],\n",
              "       [0.03777169]])"
            ]
          },
          "metadata": {
            "tags": []
          },
          "execution_count": 23
        }
      ]
    },
    {
      "cell_type": "code",
      "metadata": {
        "colab": {
          "base_uri": "https://localhost:8080/"
        },
        "id": "rbo1m1Nwmr23",
        "outputId": "c2b2fcda-6a9a-4c61-8634-4bbe8bc4371f"
      },
      "source": [
        "#Using randn(), we can generate random samples from Standard, normal or Gaussian distribution centered around 0. For example, let’s generate 7 random numbers:\r\n",
        "#When you plot the result will give us a normal distribution curve\r\n",
        "my_randn=np.random.randn(17)\r\n",
        "my_randn"
      ],
      "execution_count": null,
      "outputs": [
        {
          "output_type": "execute_result",
          "data": {
            "text/plain": [
              "array([ 0.84488514,  1.07576978, -0.10904998,  1.64356307, -1.46938796,\n",
              "        0.35702056, -0.6746001 , -1.77690372, -0.96891381, -1.29452359,\n",
              "        0.41373811,  0.27666171, -0.47203451, -0.01395975, -0.36254299,\n",
              "       -0.00615357, -0.92306065])"
            ]
          },
          "metadata": {
            "tags": []
          },
          "execution_count": 25
        }
      ]
    },
    {
      "cell_type": "code",
      "metadata": {
        "id": "HC1D-cMHnMTN"
      },
      "source": [
        "random_int= np.random.randint(20)"
      ],
      "execution_count": 3,
      "outputs": []
    },
    {
      "cell_type": "code",
      "metadata": {
        "colab": {
          "base_uri": "https://localhost:8080/"
        },
        "id": "GEiLb9dZnfv2",
        "outputId": "6388aa72-4908-4486-ebce-68cfe98d263c"
      },
      "source": [
        "random_int"
      ],
      "execution_count": 4,
      "outputs": [
        {
          "output_type": "execute_result",
          "data": {
            "text/plain": [
              "1"
            ]
          },
          "metadata": {
            "tags": []
          },
          "execution_count": 4
        }
      ]
    },
    {
      "cell_type": "code",
      "metadata": {
        "id": "lnoavONjniXi"
      },
      "source": [
        "rand_2=np.random.randint(2,20,7)"
      ],
      "execution_count": 7,
      "outputs": []
    },
    {
      "cell_type": "code",
      "metadata": {
        "colab": {
          "base_uri": "https://localhost:8080/"
        },
        "id": "E8_wAroBM2KP",
        "outputId": "ee39dbf1-e195-475f-deae-d2f1a4fdc7c8"
      },
      "source": [
        "rand_2"
      ],
      "execution_count": 8,
      "outputs": [
        {
          "output_type": "execute_result",
          "data": {
            "text/plain": [
              "array([19, 13, 17, 13,  2,  6, 10])"
            ]
          },
          "metadata": {
            "tags": []
          },
          "execution_count": 8
        }
      ]
    },
    {
      "cell_type": "code",
      "metadata": {
        "colab": {
          "base_uri": "https://localhost:8080/"
        },
        "id": "d_K4pvnjM3SN",
        "outputId": "f4cc398c-9440-4ead-cb05-65441885982b"
      },
      "source": [
        "#The reshape() can only convert to equal number or rows and columns and must together be equal to equal to the number of elements. In the example above, arr contained 25 elements hence can only be reshaped to a 5X5 matrix.\r\n",
        "dim1=np.random.rand(24)\r\n",
        "dim1"
      ],
      "execution_count": 12,
      "outputs": [
        {
          "output_type": "execute_result",
          "data": {
            "text/plain": [
              "array([0.08201431, 0.22478974, 0.31254334, 0.9327722 , 0.48895446,\n",
              "       0.51170177, 0.62504249, 0.50877638, 0.15883776, 0.28013904,\n",
              "       0.59908229, 0.22622636, 0.35920499, 0.12018529, 0.56794077,\n",
              "       0.78052677, 0.65945521, 0.66166315, 0.30524616, 0.67430308,\n",
              "       0.90489981, 0.57520953, 0.94330312, 0.69087503])"
            ]
          },
          "metadata": {
            "tags": []
          },
          "execution_count": 12
        }
      ]
    },
    {
      "cell_type": "code",
      "metadata": {
        "id": "5QzCsr5MNH0i"
      },
      "source": [
        "dim2=dim1.reshape(8,3)"
      ],
      "execution_count": 23,
      "outputs": []
    },
    {
      "cell_type": "code",
      "metadata": {
        "colab": {
          "base_uri": "https://localhost:8080/"
        },
        "id": "yWOyqUykNTX9",
        "outputId": "4d353df5-6d10-488b-9563-403fca4d6205"
      },
      "source": [
        "np.max(rand_2)"
      ],
      "execution_count": 17,
      "outputs": [
        {
          "output_type": "execute_result",
          "data": {
            "text/plain": [
              "19"
            ]
          },
          "metadata": {
            "tags": []
          },
          "execution_count": 17
        }
      ]
    },
    {
      "cell_type": "code",
      "metadata": {
        "colab": {
          "base_uri": "https://localhost:8080/"
        },
        "id": "yVGPjhZ1Num4",
        "outputId": "4cc4d292-81be-4ac0-f25e-af76cabbd9d5"
      },
      "source": [
        "np.min(rand_2)"
      ],
      "execution_count": 18,
      "outputs": [
        {
          "output_type": "execute_result",
          "data": {
            "text/plain": [
              "2"
            ]
          },
          "metadata": {
            "tags": []
          },
          "execution_count": 18
        }
      ]
    },
    {
      "cell_type": "code",
      "metadata": {
        "colab": {
          "base_uri": "https://localhost:8080/"
        },
        "id": "N7PT292vNw8V",
        "outputId": "0a4e2e19-49e3-4a54-9265-76526efe5940"
      },
      "source": [
        "np.argmax(rand_2)"
      ],
      "execution_count": 19,
      "outputs": [
        {
          "output_type": "execute_result",
          "data": {
            "text/plain": [
              "0"
            ]
          },
          "metadata": {
            "tags": []
          },
          "execution_count": 19
        }
      ]
    },
    {
      "cell_type": "code",
      "metadata": {
        "colab": {
          "base_uri": "https://localhost:8080/"
        },
        "id": "jv1JgZWuOPnL",
        "outputId": "0d3035d0-4efb-435c-c6e6-c8de35999970"
      },
      "source": [
        "np.argmin(rand_2)"
      ],
      "execution_count": 21,
      "outputs": [
        {
          "output_type": "execute_result",
          "data": {
            "text/plain": [
              "4"
            ]
          },
          "metadata": {
            "tags": []
          },
          "execution_count": 21
        }
      ]
    },
    {
      "cell_type": "code",
      "metadata": {
        "colab": {
          "base_uri": "https://localhost:8080/"
        },
        "id": "XJ5W5n36OSOM",
        "outputId": "cca5f89c-9bfd-479d-a8fe-71280973997c"
      },
      "source": [
        "np.argmax(dim1)"
      ],
      "execution_count": 26,
      "outputs": [
        {
          "output_type": "execute_result",
          "data": {
            "text/plain": [
              "22"
            ]
          },
          "metadata": {
            "tags": []
          },
          "execution_count": 26
        }
      ]
    },
    {
      "cell_type": "code",
      "metadata": {
        "colab": {
          "base_uri": "https://localhost:8080/"
        },
        "id": "hVFf-kmLObMX",
        "outputId": "6bbd1ea6-4986-4f7e-b046-251dfae4416a"
      },
      "source": [
        "slicing=np.arange(1,10)\r\n",
        "slicing"
      ],
      "execution_count": 28,
      "outputs": [
        {
          "output_type": "execute_result",
          "data": {
            "text/plain": [
              "array([1, 2, 3, 4, 5, 6, 7, 8, 9])"
            ]
          },
          "metadata": {
            "tags": []
          },
          "execution_count": 28
        }
      ]
    },
    {
      "cell_type": "code",
      "metadata": {
        "colab": {
          "base_uri": "https://localhost:8080/"
        },
        "id": "wPj3Ay4OOxuE",
        "outputId": "b6b98b07-f932-4bd3-8999-9f1e9a717dc1"
      },
      "source": [
        "slicing[5:-2]"
      ],
      "execution_count": 34,
      "outputs": [
        {
          "output_type": "execute_result",
          "data": {
            "text/plain": [
              "array([6, 7])"
            ]
          },
          "metadata": {
            "tags": []
          },
          "execution_count": 34
        }
      ]
    },
    {
      "cell_type": "code",
      "metadata": {
        "colab": {
          "base_uri": "https://localhost:8080/"
        },
        "id": "J-5NhUwKO6SF",
        "outputId": "716a50ff-e268-44d7-b044-76fa53f89701"
      },
      "source": [
        "slicing2=np.random.rand(5,4)\r\n",
        "slicing2"
      ],
      "execution_count": 40,
      "outputs": [
        {
          "output_type": "execute_result",
          "data": {
            "text/plain": [
              "array([[0.11039755, 0.06635631, 0.29626525, 0.31613977],\n",
              "       [0.27238948, 0.21156642, 0.4875411 , 0.69761943],\n",
              "       [0.9657165 , 0.21876515, 0.01297276, 0.06668764],\n",
              "       [0.09244068, 0.35070287, 0.82218167, 0.61069274],\n",
              "       [0.50200854, 0.80888341, 0.47656897, 0.95434298]])"
            ]
          },
          "metadata": {
            "tags": []
          },
          "execution_count": 40
        }
      ]
    },
    {
      "cell_type": "code",
      "metadata": {
        "colab": {
          "base_uri": "https://localhost:8080/"
        },
        "id": "ZNOZLLsxPQpJ",
        "outputId": "8f212616-668f-47e5-ae94-c60a7a8d4e62"
      },
      "source": [
        "slicing2[2:,::-1]"
      ],
      "execution_count": 49,
      "outputs": [
        {
          "output_type": "execute_result",
          "data": {
            "text/plain": [
              "array([[0.06668764, 0.01297276, 0.21876515, 0.9657165 ],\n",
              "       [0.61069274, 0.82218167, 0.35070287, 0.09244068],\n",
              "       [0.95434298, 0.47656897, 0.80888341, 0.50200854]])"
            ]
          },
          "metadata": {
            "tags": []
          },
          "execution_count": 49
        }
      ]
    },
    {
      "cell_type": "code",
      "metadata": {
        "colab": {
          "base_uri": "https://localhost:8080/"
        },
        "id": "eMJBQGXsP1U7",
        "outputId": "fb33819c-bfbb-47e0-a6fd-8885de6b9bf7"
      },
      "source": [
        "slicing2[2:,::-2]"
      ],
      "execution_count": 50,
      "outputs": [
        {
          "output_type": "execute_result",
          "data": {
            "text/plain": [
              "array([[0.06668764, 0.21876515],\n",
              "       [0.61069274, 0.35070287],\n",
              "       [0.95434298, 0.80888341]])"
            ]
          },
          "metadata": {
            "tags": []
          },
          "execution_count": 50
        }
      ]
    },
    {
      "cell_type": "code",
      "metadata": {
        "id": "Ttw95TFLQdfv"
      },
      "source": [
        ""
      ],
      "execution_count": null,
      "outputs": []
    }
  ]
}