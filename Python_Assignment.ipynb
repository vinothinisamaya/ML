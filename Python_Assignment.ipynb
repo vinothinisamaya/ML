{
 "cells": [
  {
   "cell_type": "markdown",
   "metadata": {
    "id": "l0ZzOlyxB-kf"
   },
   "source": [
    "<h1>Python: without numpy or sklearn </h1>"
   ]
  },
  {
   "cell_type": "markdown",
   "metadata": {
    "id": "C0xO8JV9B-ki"
   },
   "source": [
    "<h3> Q1: Given two matrices please print the product of those two matrices </h3>\n",
    "<pre>\n",
    "\n",
    "Ex 1: A   = [[1 3 4]\n",
    "             [2 5 7]\n",
    "             [5 9 6]]\n",
    "      B   = [[1 0 0]\n",
    "             [0 1 0]\n",
    "             [0 0 1]]\n",
    "      A*B = [[1 3 4]\n",
    "             [2 5 7]\n",
    "             [5 9 6]]\n",
    "\n",
    "     \n",
    "Ex 2: A   = [[1 2]\n",
    "             [3 4]]\n",
    "      B   = [[1 2 3 4 5]\n",
    "             [5 6 7 8 9]]\n",
    "      A*B = [[11 14 17 20 23]\n",
    "             [23 30 36 42 51]]\n",
    "             \n",
    "Ex 3: A   = [[1 2]\n",
    "             [3 4]]\n",
    "      B   = [[1 4]\n",
    "             [5 6]\n",
    "             [7 8]\n",
    "             [9 6]]\n",
    "      A*B =Not possible\n",
    "</pre>"
   ]
  },
  {
   "cell_type": "code",
   "execution_count": 33,
   "metadata": {
    "colab": {
     "base_uri": "https://localhost:8080/",
     "height": 34
    },
    "id": "rnssAfpgB-kj",
    "outputId": "55536b54-afb1-46cd-83e6-8d19aa570b2d"
   },
   "outputs": [
    {
     "name": "stdout",
     "output_type": "stream",
     "text": [
      "[[1, 3, 4], [2, 5, 7], [5, 9, 6]]\n"
     ]
    }
   ],
   "source": [
    "#https://towardsdatascience.com/a-complete-beginners-guide-to-matrix-multiplication-for-data-science-with-python-numpy-9274ecfc1dc6\n",
    "#https://www.kite.com/python/answers/how-to-find-the-length-of-a-2d-array-in-python#:~:text=Use%20len()%20to%20find,total%20length%20of%20the%20list.\n",
    "# write your python code here\n",
    "# you can take the above example as sample input for your program to test\n",
    "# it should work for any general input try not to hard code for only given input examples\n",
    "\n",
    "\n",
    "# you can free to change all these codes/structure\n",
    "# here A and B are list of lists\n",
    "def matrix_mul(Matrix_A,Matrix_B):\n",
    "    # write your code\n",
    "\n",
    "    r1=len(Matrix_A)\n",
    "    c1=len(Matrix_A[0])\n",
    "    r2=len(Matrix_B)\n",
    "    c2=len(Matrix_B[0])\n",
    "    if c1==r2:\n",
    "        resultant_matrix=[[0 for i in range(r1)]for j in range(c2)]\n",
    "        for r in range(r1):\n",
    "            for c in range(c1):\n",
    "                for c_2 in range(c2):\n",
    "                    resultant_matrix[r][c]+=Matrix_A[r][c_2]*Matrix_B[c_2][c]\n",
    "        \n",
    "    else:\n",
    "        return \"Not Possible\"\n",
    "    return resultant_matrix\n",
    "Matrix_A=[[1,3,4],[2,5,7],[5,9,6]]\n",
    "Matrix_B=[[1,0,0],[0,1,0],[0,0,1]] \n",
    "\n",
    "matrix_ans = matrix_mul(Matrix_A, Matrix_B)\n",
    "print(matrix_ans)"
   ]
  },
  {
   "cell_type": "markdown",
   "metadata": {
    "id": "at4VwLggB-kn"
   },
   "source": [
    "<h3> Q2: Select a number randomly with probability proportional to its magnitude from the given array of n elements</h3>\n",
    "\n",
    "consider an experiment, selecting an element from the list A randomly with probability proportional to its magnitude.\n",
    "assume we are doing the same experiment for 100 times with replacement, in each experiment you will print a number that is selected randomly from A.\n",
    "\n",
    "<pre>\n",
    "Ex 1: A = [0 5 27 6 13 28 100 45 10 79]\n",
    "let f(x) denote the number of times x getting selected in 100 experiments.\n",
    "f(100) > f(79) > f(45) > f(28) > f(27) > f(13) > f(10) > f(6) > f(5) > f(0)\n",
    "</pre>"
   ]
  },
  {
   "cell_type": "code",
   "execution_count": 12,
   "metadata": {
    "colab": {
     "base_uri": "https://localhost:8080/",
     "height": 187
    },
    "id": "B6S2dpBhB-kn",
    "outputId": "2f467d45-db7f-4765-f885-4d26c41c6fe5"
   },
   "outputs": [
    {
     "name": "stdout",
     "output_type": "stream",
     "text": [
      "0 0\n",
      "5 0\n",
      "6 3\n",
      "10 5\n",
      "13 5\n",
      "27 7\n",
      "28 9\n",
      "45 16\n",
      "79 23\n",
      "100 31\n"
     ]
    }
   ],
   "source": [
    "#https://www.sanfoundry.com/python-program-cumulative-sum-list/#:~:text=Python%20Program%20to%20Find%20the%20Cumulative%20Sum%20of,of%20elements%20in%20the%20list.%20More%20items...%20\n",
    "#lecture video in this course proportional sampling\n",
    "#https://www.geeksforgeeks.org/python-number-uniform-method/\n",
    "import random\n",
    "# write your python code here\n",
    "# you can take the above example as sample input for your program to test\n",
    "# it should work for any general input try not to hard code for only given input examples\n",
    "# you can free to change all these codes/structure\n",
    "# your code here for picking an element from with the probability propotional to its magnitude\n",
    "A = [0,5,27,6,13,28,100,45,10,79]\n",
    "def pick_a_number_from_list(A):\n",
    "        S=0\n",
    "        for i in A:\n",
    "            S+=i\n",
    "        #print(S)\n",
    "        idash=[]\n",
    "        for i in A:\n",
    "            idash.append(i/S)\n",
    "        #print(idash)\n",
    "        d=[sum(idash[0:i+1]) for i in range(0,len(idash))]\n",
    "        #d\n",
    "        r=random.uniform(0.0,1.0)\n",
    "        \n",
    "        c=[]\n",
    "        for i in range(0,len(d)):\n",
    "            if (r <= d[i]):\n",
    "                return A[i]\n",
    "prop_samp = []\n",
    "for i in range(1,100):\n",
    "    prop_samp.append(pick_a_number_from_list(A))\n",
    "A=sorted(A)\n",
    "for i in A:\n",
    "    print(i,prop_samp.count(i))\n"
   ]
  },
  {
   "cell_type": "markdown",
   "metadata": {
    "id": "D1xQy2WWB-kq"
   },
   "source": [
    "<h3> Q3: Replace the digits in the string with #</h3>\n",
    "\n",
    "consider a string that will have digits in that, we need to remove all the not digits and replace the digits with #\n",
    "<pre>\n",
    "Ex 1: A = 234                Output: ###\n",
    "Ex 2: A = a2b3c4             Output: ###\n",
    "Ex 3: A = abc                Output:   (empty string)\n",
    "Ex 5: A = #2a$#b%c%561#      Output: ####\n",
    "</pre>"
   ]
  },
  {
   "cell_type": "code",
   "execution_count": 19,
   "metadata": {
    "colab": {
     "base_uri": "https://localhost:8080/",
     "height": 85
    },
    "id": "fxczi2jzB-kr",
    "outputId": "14b19319-bef7-489e-d0cb-1c15dd59f56b"
   },
   "outputs": [
    {
     "name": "stdout",
     "output_type": "stream",
     "text": [
      "###\n",
      "###\n",
      "\n",
      "####\n"
     ]
    }
   ],
   "source": [
    "#w3school:regular Expression\n",
    "import re\n",
    "# write your python code here\n",
    "# you can take the above example as sample input for your program to test\n",
    "# it should work for any general input try not to hard code for only given input examples\n",
    "\n",
    "# you can free to change all these codes/structure\n",
    "# String: it will be the input to your program\n",
    "def replace_digits(String):\n",
    "    # write your code\n",
    "    x= re.findall('\\d',String)\n",
    "    y=''.join(x)\n",
    "        \n",
    "    return(re.sub('\\d','#',y)) # modified string which is after replacing the # with digits\n",
    "\n",
    "A=['234','a2b3c4','abc','#2a$#b%c%561#']\n",
    "for i in A:\n",
    "    ans=replace_digits(i)\n",
    "    print(ans)"
   ]
  },
  {
   "cell_type": "markdown",
   "metadata": {
    "id": "j7h0Ywg7B-kw"
   },
   "source": [
    "<h3> Q4: Students marks dashboard</h3>\n",
    "\n",
    "consider the marks list of class students given two lists <br>\n",
    "Students = ['student1','student2','student3','student4','student5','student6','student7','student8','student9','student10'] <br>\n",
    "Marks = [45, 78, 12, 14, 48, 43, 45, 98, 35, 80] <br>\n",
    "from the above two lists the Student[0] got Marks[0],  Student[1] got Marks[1] and so on <br><br>\n",
    "your task is to print the name of students\n",
    "<strong>a. Who got top 5 ranks, in the descending order of marks</strong> <br>\n",
    "<strong>b. Who got least 5 ranks, in the increasing order of marks</strong><br>\n",
    "<strong>d. Who got marks between  &gt;25th percentile &lt;75th percentile, in the increasing order of marks</strong>\n",
    "\n",
    "<pre>\n",
    "Ex 1: \n",
    "Students=['student1','student2','student3','student4','student5','student6','student7','student8','student9','student10'] \n",
    "Marks = [45, 78, 12, 14, 48, 43, 47, 98, 35, 80]\n",
    "a. \n",
    "student8  98\n",
    "student10 80\n",
    "student2  78\n",
    "student5  48\n",
    "student7  47\n",
    "b.\n",
    "student3 12\n",
    "student4 14\n",
    "student9 35\n",
    "student6 43\n",
    "student1 45\n",
    "c.\n",
    "student9 35\n",
    "student6 43\n",
    "student1 45\n",
    "student7 47\n",
    "student5 48\n",
    "</pre>"
   ]
  },
  {
   "cell_type": "code",
   "execution_count": 5,
   "metadata": {
    "colab": {
     "base_uri": "https://localhost:8080/",
     "height": 68
    },
    "id": "cxPJgItsB-kx",
    "outputId": "45a52f25-45fe-4a7c-9319-bd9da8b12d22"
   },
   "outputs": [
    {
     "name": "stdout",
     "output_type": "stream",
     "text": [
      "[('student8', 98), ('student10', 80), ('student2', 78), ('student5', 48), ('student7', 47)] \n",
      " [('student3', 12), ('student4', 14), ('student9', 35), ('student6', 43), ('student1', 45)] \n",
      " [('student9', 35), ('student6', 43), ('student1', 45), ('student7', 47), ('student5', 48)]\n"
     ]
    }
   ],
   "source": [
    "##https://www.kite.com/python/answers/how-to-sort-a-list-of-tuples-by-the-second-value-in-python#:~:text=Use%20a%20lambda%20function%20as,second%20element%20of%20each%20tuple.\n",
    "# write your python code here\n",
    "# you can take the above example as sample input for your program to test\n",
    "# it should work for any general input try not to hard code for only given input examples\n",
    "\n",
    "# you can free to change all these codes/structure\n",
    "def display_dash_board(students, marks):\n",
    "    students_within_25_and_75=[]\n",
    "    result=list(zip(students,marks))\n",
    "    top_5_students=sorted(result,key=lambda x:x[1],reverse=True)[:5]\n",
    "    least_5_students=sorted(result,key=lambda x:x[1],reverse=False)[:5]\n",
    "    students_within_25_and_75_test=sorted(result,key=lambda x:x[1],reverse=False)\n",
    "    median=len(marks)/2\n",
    "    IQR25=round(median/2)\n",
    "    IQR75=round(median)+round(median/2)\n",
    "    for i in range(IQR25,IQR75):\n",
    "        students_within_25_and_75.append(students_within_25_and_75_test[i])\n",
    "    \n",
    "    return top_5_students, least_5_students, students_within_25_and_75\n",
    "students=['student1','student2','student3','student4','student5','student6','student7','student8','student9','student10'] \n",
    "marks = [45, 78, 12, 14, 48, 43, 47, 98, 35, 80]\n",
    "top_5_students, least_5_students, students_within_25_and_75 = display_dash_board(students, marks)\n",
    "print(top_5_students,'\\n', least_5_students, '\\n',students_within_25_and_75 )"
   ]
  },
  {
   "cell_type": "markdown",
   "metadata": {
    "id": "qha0OhQHB-k1"
   },
   "source": [
    "<h3> Q5: Find the closest points</h3>\n",
    "\n",
    "consider you have given n data points in the form of list of tuples like S=[(x1,y1),(x2,y2),(x3,y3),(x4,y4),(x5,y5),..,(xn,yn)] and a point P=(p,q) <br> your task is to find 5 closest points(based on cosine distance) in S from P\n",
    "<br>cosine distance between two points (x,y) and (p,q) is defind as $cos^{-1}(\\frac{(x\\cdot p+y\\cdot q)}{\\sqrt(x^2+y^2)\\cdot\\sqrt(p^2+q^2)})$\n",
    "<pre>\n",
    "Ex:\n",
    "\n",
    "S= [(1,2),(3,4),(-1,1),(6,-7),(0, 6),(-5,-8),(-1,-1)(6,0),(1,-1)]\n",
    "P= (3,-4)\n",
    "<img src='https://i.imgur.com/vIFPOcG.jpg', width=300>\n",
    "Output:\n",
    "(6,-7)\n",
    "(1,-1)\n",
    "(6,0)\n",
    "(-5,-8)\n",
    "(-1,-1)\n",
    "</pre>"
   ]
  },
  {
   "cell_type": "code",
   "execution_count": 10,
   "metadata": {
    "colab": {
     "base_uri": "https://localhost:8080/",
     "height": 102
    },
    "id": "wA5I1g-2B-k2",
    "outputId": "838d9f95-7321-46af-90a9-ecf7742d2a5a"
   },
   "outputs": [
    {
     "name": "stdout",
     "output_type": "stream",
     "text": [
      "(6, -7)\n",
      "(6, 0)\n",
      "(1, -1)\n",
      "(-5, -8)\n",
      "(-1, -1)\n"
     ]
    }
   ],
   "source": [
    "#https://www.kite.com/python/answers/how-to-get-the-first-element-of-each-tuple-in-a-list-in-python#:~:text=Use%20indexing%20to%20get%20the,each%20first%20element%20to%20list%20.\n",
    "#https://www.w3schools.com/python/ref_math_acos.asp\n",
    "#https://www.w3schools.com/sql/func_mysql_acos.asp\n",
    "import math\n",
    "\n",
    "# write your python code here\n",
    "# you can take the above example as sample input for your program to test\n",
    "# it should work for any general input try not to hard code for only given input examples\n",
    "# you can free to change all these codes/structure\n",
    "\n",
    "\n",
    "# here S is list of tuples and P is a tuple ot len=2\n",
    "def closest_points_to_p(S, P):\n",
    "    cos_distance=[]\n",
    "    x=[]\n",
    "    for i in S:\n",
    "      dist1=i[0]*P[0]+i[1]*P[1]\n",
    "      sq_dist=math.sqrt((i[0]**2)*(P[0]**2))+math.sqrt((i[1]**2)*(P[1]**2))\n",
    "      if sq_dist !=0: \n",
    "          cos_distance = math.acos(dist1/sq_dist)\n",
    "      x.append(cos_distance)\n",
    "\n",
    "    zip_v = list(zip(S,x))\n",
    "    #print(zip_v)\n",
    "    Y = [S for S in sorted(zip_v, key=lambda i:i[1])][:5]\n",
    "    #print(Y)\n",
    "    return Y \n",
    "     \n",
    "S= [(1,2),(3,4),(-1,1),(6,-7),(0, 6),(-5,-8),(-1,-1),(6,0),(1,-1)]\n",
    "P= (3,-4)\n",
    "points = closest_points_to_p(S, P)\n",
    "for i, j in points:\n",
    "     print(i) "
   ]
  },
  {
   "cell_type": "markdown",
   "metadata": {
    "id": "-g11jeAiB-k5"
   },
   "source": [
    "<h3> Q6: Find Which line separates oranges and apples</h3>\n",
    "consider you have given two set of data points in the form of list of tuples like \n",
    "<pre>\n",
    "Red =[(R11,R12),(R21,R22),(R31,R32),(R41,R42),(R51,R52),..,(Rn1,Rn2)]\n",
    "Blue=[(B11,B12),(B21,B22),(B31,B32),(B41,B42),(B51,B52),..,(Bm1,Bm2)]\n",
    "</pre>\n",
    "and set of line equations(in the string formate, i.e list of strings)\n",
    "<pre>\n",
    "Lines = [a1x+b1y+c1,a2x+b2y+c2,a3x+b3y+c3,a4x+b4y+c4,..,K lines]\n",
    "Note: you need to string parsing here and get the coefficients of x,y and intercept\n",
    "</pre>\n",
    "your task is to for each line that is given print \"YES\"/\"NO\", you will print yes, if all the red points are one side of the line and blue points are other side of the line, otherwise no\n",
    "<pre>\n",
    "Ex:\n",
    "Red= [(1,1),(2,1),(4,2),(2,4), (-1,4)]\n",
    "Blue= [(-2,-1),(-1,-2),(-3,-2),(-3,-1),(1,-3)]\n",
    "Lines=[\"1x+1y+0\",\"1x-1y+0\",\"1x+0y-3\",\"0x+1y-0.5\"]\n",
    "<img src='https://i.imgur.com/DoQf7mE.jpg' width=400>\n",
    "Output:\n",
    "YES\n",
    "NO\n",
    "NO\n",
    "YES\n",
    "</pre>"
   ]
  },
  {
   "cell_type": "code",
   "execution_count": 11,
   "metadata": {
    "colab": {
     "base_uri": "https://localhost:8080/",
     "height": 85
    },
    "id": "eRxExaTRB-k6",
    "outputId": "b034529f-67a0-477b-dba2-06010464292c"
   },
   "outputs": [
    {
     "name": "stdout",
     "output_type": "stream",
     "text": [
      "yes\n",
      "no\n",
      "no\n",
      "yes\n"
     ]
    }
   ],
   "source": [
    "#https://stackoverflow.com/questions/1841565/valueerror-invalid-literal-for-int-with-base-10\n",
    "#https://www.geeksforgeeks.org/python-check-if-all-elements-in-list-follow-a-condition/\n",
    "#https://realpython.com/python-eval-function/#:~:text=Python's%20eval()%20allows%20you,or%20a%20compiled%20code%20object.\n",
    "#https://note.nkmk.me/en/python-str-replace-translate-re-sub/\n",
    "import math\n",
    "def i_am_the_one(red,blue,line):\n",
    "    red_ls=[]\n",
    "    blue_ls=[]\n",
    "    #print(red,blue,line)\n",
    "    for j in Red:\n",
    "      red = eval(line.replace('x',('*'+str(j[0]))).replace('y','*'+str(j[1])))\n",
    "      red_ls.append(red) \n",
    "      res_red = all(float(ele) > 0 for ele in red_ls) \n",
    "    for j in Blue:\n",
    "      blue = eval(line.replace('x',('*'+str(j[0]))).replace('y','*'+str(j[1])))\n",
    "      blue_ls.append(blue) \n",
    "      res_blue = all(float(ele) > 0 for ele in blue_ls)\n",
    "    #print(res_red,res_blue)\n",
    "    if res_red==1 and res_blue==0:\n",
    "      return \"yes\"\n",
    "    else:\n",
    "       return \"no\"\n",
    "     \n",
    "    \n",
    "Red= [(1,1),(2,1),(4,2),(2,4), (-1,4)]\n",
    "Blue= [(-2,-1),(-1,-2),(-3,-2),(-3,-1),(1,-3)]\n",
    "Lines=[\"1x+1y+0\",\"1x-1y+0\",\"1x+0y-3\",\"0x+1y-0.5\"]\n",
    "\n",
    "for i in Lines:\n",
    "    yes_or_no = i_am_the_one(Red, Blue, i)\n",
    "    print(yes_or_no)\n",
    "  \n"
   ]
  },
  {
   "cell_type": "markdown",
   "metadata": {
    "id": "9OBpURbNB-k9"
   },
   "source": [
    "<h3> Q7: Filling the missing values in the specified formate</h3>\n",
    "You will be given a string with digits and '\\_'(missing value) symbols you have to replace the '\\_' symbols as explained \n",
    "<pre>\n",
    "Ex 1: _, _, _, 24 ==> 24/4, 24/4, 24/4, 24/4 i.e we. have distributed the 24 equally to all 4 places <br>\n",
    "Ex 2: 40, _, _, _, 60 ==> (60+40)/5,(60+40)/5,(60+40)/5,(60+40)/5,(60+40)/5 ==> 20, 20, 20, 20, 20 i.e. the sum of (60+40) is distributed qually to all 5 places<br>\n",
    "Ex 3: 80, _, _, _, _  ==> 80/5,80/5,80/5,80/5,80/5 ==> 16, 16, 16, 16, 16 i.e. the 80 is distributed qually to all 5 missing values that are right to it<br>\n",
    "Ex 4: _, _, 30, _, _, _, 50, _, _  \n",
    "==> we will fill the missing values from left to right \n",
    "    a. first we will distribute the 30 to left two missing values (10, 10, 10, _, _, _, 50, _, _)\n",
    "    b. now distribute the sum (10+50) missing values in between (10, 10, 12, 12, 12, 12, 12, _, _) \n",
    "    c. now we will distribute 12 to right side missing values (10, 10, 12, 12, 12, 12, 4, 4, 4)\n",
    "</pre>\n",
    "for a given string with comma seprate values, which will have both missing values numbers like ex: \"_, _, x, _, _, _\"\n",
    "you need fill the missing values\n",
    "\n",
    "Q: your program reads a string like ex: \"_, _, x, _, _, _\" and returns the filled sequence\n",
    "\n",
    "Ex: \n",
    "<pre>\n",
    "Input1: \"_,_,_,24\"\n",
    "Output1: 6,6,6,6\n",
    "\n",
    "Input2: \"40,_,_,_,60\"\n",
    "Output2: 20,20,20,20,20\n",
    "\n",
    "Input3: \"80,_,_,_,_\"\n",
    "Output3: 16,16,16,16,16\n",
    "\n",
    "Input4: \"_,_,30,_,_,_,50,_,_\"\n",
    "Output4: 10,10,12,12,12,12,4,4,4\n",
    "</pre>\n",
    "\n"
   ]
  },
  {
   "cell_type": "code",
   "execution_count": 13,
   "metadata": {
    "colab": {
     "base_uri": "https://localhost:8080/",
     "height": 34
    },
    "id": "nZmpzHs_B-k-",
    "outputId": "ed76ea41-1187-4425-91a8-61b66d267cb1"
   },
   "outputs": [
    {
     "name": "stdout",
     "output_type": "stream",
     "text": [
      "[10.0, 10.0, 12.0, 12.0, 12.0, 12.0, 4.0, 4.0, 4.0]\n"
     ]
    }
   ],
   "source": [
    " #https://stackoverflow.com/questions/7889820/how-to-obtain-the-last-index-of-a-list:\n",
    " #https://stackoverflow.com/questions/2582138/finding-and-replacing-elements-in-a-list\n",
    "# write your python code here\n",
    "# you can take the above example as sample input for your program to test\n",
    "# it should work for any general input try not to hard code for only given input strings\n",
    "# you can free to change all these codes/structure\n",
    "def curve_smoothing(string):\n",
    "    \n",
    "    spl_ls = S.split(',')\n",
    "    orig_ls=[]\n",
    "    \n",
    "    for i in range(len(spl_ls)) :\n",
    "      if spl_ls[i] != '_' or i==len(spl_ls)-1:\n",
    "          orig_ls.append(i)\n",
    "\n",
    "    first = 0\n",
    "    initial_sum =0\n",
    "\n",
    "    for i in orig_ls:#passing the position[2,6,8]\n",
    "        if spl_ls[i]!='_':\n",
    "          initial_sum +=int(spl_ls[i]) #first and next value sum\n",
    "        else:\n",
    "          initial_sum=smoothing_sum #updating to the latest sum\n",
    "          \n",
    "        end = i\n",
    "        no_pos = (end-first)+1 \n",
    "        smoothing_sum = initial_sum/no_pos\n",
    "        #print(smoothing_sum)\n",
    "        initial_sum=smoothing_sum\n",
    "        for x in range(len(spl_ls)):\n",
    "          if first<=x<=end:\n",
    "            spl_ls[x]=smoothing_sum\n",
    "          else:\n",
    "            spl_ls[x]\n",
    "        \n",
    "        first = i\n",
    "    \n",
    "    return spl_ls\n",
    "\n",
    "S=  \"_,_,30,_,_,_,50,_,_\"\n",
    "smoothed_values= curve_smoothing(S)\n",
    "print(smoothed_values)"
   ]
  },
  {
   "cell_type": "markdown",
   "metadata": {
    "id": "RBz4pzlfB-lB"
   },
   "source": [
    "<h3> Q8: Filling the missing values in the specified formate</h3>\n",
    "You will be given a list of lists, each sublist will be of length 2 i.e. [[x,y],[p,q],[l,m]..[r,s]]\n",
    "consider its like a martrix of n rows and two columns\n",
    "1. the first column F will contain only 5 uniques values (F1, F2, F3, F4, F5)\n",
    "2. the second column S will contain only 3 uniques values (S1, S2, S3)\n",
    "<pre>\n",
    "your task is to find\n",
    "a. Probability of P(F=F1|S==S1), P(F=F1|S==S2), P(F=F1|S==S3)\n",
    "b. Probability of P(F=F2|S==S1), P(F=F2|S==S2), P(F=F2|S==S3)\n",
    "c. Probability of P(F=F3|S==S1), P(F=F3|S==S2), P(F=F3|S==S3)\n",
    "d. Probability of P(F=F4|S==S1), P(F=F4|S==S2), P(F=F4|S==S3)\n",
    "e. Probability of P(F=F5|S==S1), P(F=F5|S==S2), P(F=F5|S==S3)\n",
    "</pre>\n",
    "Ex:\n",
    "\n",
    "<pre>\n",
    "[[F1,S1],[F2,S2],[F3,S3],[F1,S2],[F2,S3],[F3,S2],[F2,S1],[F4,S1],[F4,S3],[F5,S1]]\n",
    "\n",
    "a. P(F=F1|S==S1)=1/4, P(F=F1|S==S2)=1/3, P(F=F1|S==S3)=0/3\n",
    "b. P(F=F2|S==S1)=1/4, P(F=F2|S==S2)=1/3, P(F=F2|S==S3)=1/3\n",
    "c. P(F=F3|S==S1)=0/4, P(F=F3|S==S2)=1/3, P(F=F3|S==S3)=1/3\n",
    "d. P(F=F4|S==S1)=1/4, P(F=F4|S==S2)=0/3, P(F=F4|S==S3)=1/3\n",
    "e. P(F=F5|S==S1)=1/4, P(F=F5|S==S2)=0/3, P(F=F5|S==S3)=0/3\n",
    "</pre>\n",
    "\n",
    "\n"
   ]
  },
  {
   "cell_type": "code",
   "execution_count": 41,
   "metadata": {
    "colab": {
     "base_uri": "https://localhost:8080/",
     "height": 272
    },
    "id": "e-1giz1MB-lC",
    "outputId": "17050bed-ad75-4dc2-e654-08c01ce03aea"
   },
   "outputs": [
    {
     "name": "stdout",
     "output_type": "stream",
     "text": [
      "P(F== F1 |S== S1 = 1 / 4  Prob_score 0.25\n",
      "P(F== F1 |S== S2 = 1 / 3  Prob_score 0.3333333333333333\n",
      "P(F== F1 |S== S3 = 0 / 3  Prob_score 0.0\n",
      "P(F== F2 |S== S1 = 1 / 4  Prob_score 0.25\n",
      "P(F== F2 |S== S2 = 1 / 3  Prob_score 0.3333333333333333\n",
      "P(F== F2 |S== S3 = 1 / 3  Prob_score 0.3333333333333333\n",
      "P(F== F3 |S== S1 = 0 / 4  Prob_score 0.0\n",
      "P(F== F3 |S== S2 = 1 / 3  Prob_score 0.3333333333333333\n",
      "P(F== F3 |S== S3 = 1 / 3  Prob_score 0.3333333333333333\n",
      "P(F== F4 |S== S1 = 1 / 4  Prob_score 0.25\n",
      "P(F== F4 |S== S2 = 0 / 3  Prob_score 0.0\n",
      "P(F== F4 |S== S3 = 1 / 3  Prob_score 0.3333333333333333\n",
      "P(F== F5 |S== S1 = 1 / 4  Prob_score 0.25\n",
      "P(F== F5 |S== S2 = 0 / 3  Prob_score 0.0\n",
      "P(F== F5 |S== S3 = 0 / 3  Prob_score 0.0\n"
     ]
    }
   ],
   "source": [
    "#https://stackoverflow.com/questions/1388818/how-can-i-compare-two-lists-in-python-and-return-matches\n",
    "#https://www.geeksforgeeks.org/python-count-occurrences-element-list/\n",
    "# write your python code here\n",
    "# you can take the above example as sample input for your program to test\n",
    "# it should work for any general input try not to hard code for only given input strings\n",
    "# you can free to change all these codes/structure\n",
    "def compute_conditional_probabilites(F,S):\n",
    "    FS_count=0\n",
    "    S_count=0\n",
    "    for i in range(len(A)):\n",
    "        if(A[i][1]==S):#storing S value and count and comparing with A \n",
    "            S_count=S_count+1\n",
    "            if(A[i][0]==F):#storing FS count \n",
    "                FS_count=FS_count+1\n",
    "    prob_score = FS_count/S_count\n",
    "    print('P(F==',F,'|S==',S,'=',FS_count,'/',S_count,' Prob_score',prob_score)\n",
    "\n",
    "A = [['F1','S1'],['F2','S2'],['F3','S3'],['F1','S2'],['F2','S3'],['F3','S2'],['F2','S1'],['F4','S1'],['F4','S3'],['F5','S1']]\n",
    "\n",
    "# #[F1, S1],[F1,S2],[F1 ,S3],[F2 ,S1],[F2 ,S2],[F2 ,S3],[F3 ,S1],[F3 ,S2],[F3 ,S3],[F4 ,S1],[F4 ,S2],[F4 ,S3],[F5 ,S1],[F5 ,S2],[F5 ,S3] \n",
    "#genrating for each F,all 3 S values combination \n",
    "for F in ['F1', 'F2', 'F3', 'F4', 'F5']:\n",
    "    for S in ['S1', 'S2', 'S3']:\n",
    "        \n",
    "         compute_conditional_probabilites(F,S)\n",
    "    # print the output as per the instructions\n",
    "\n"
   ]
  },
  {
   "cell_type": "markdown",
   "metadata": {
    "id": "n4HS87QmB-lF"
   },
   "source": [
    "<h3> Q9: Given two sentances S1, S2</h3>\n",
    "You will be given two sentances S1, S2 your task is to find \n",
    "<pre>\n",
    "a. Number of common words between S1, S2\n",
    "b. Words in S1 but not in S2\n",
    "c. Words in S2 but not in S1\n",
    "</pre>\n",
    "\n",
    "Ex: \n",
    "<pre>\n",
    "S1= \"the first column F will contain only 5 uniques values\"\n",
    "S2= \"the second column S will contain only 3 uniques values\"\n",
    "Output:\n",
    "a. 7\n",
    "b. ['first','F','5']\n",
    "c. ['second','S','3']\n",
    "</pre>"
   ]
  },
  {
   "cell_type": "code",
   "execution_count": 30,
   "metadata": {
    "colab": {
     "base_uri": "https://localhost:8080/",
     "height": 34
    },
    "id": "Ez7hlHK0B-lG",
    "outputId": "0e080de7-eb19-4b80-9c15-3c20fb14641f"
   },
   "outputs": [
    {
     "name": "stdout",
     "output_type": "stream",
     "text": [
      "7 ['first', 'F', '5'] ['second', 'S', '3']\n"
     ]
    }
   ],
   "source": [
    "#https://stackoverflow.com/questions/4260280/if-else-in-a-list-comprehension\n",
    "# write your python code here\n",
    "# you can take the above example as sample input for your program to test\n",
    "# it should work for any general input try not to hard code for only given input strings\n",
    "# you can free to change all these codes/structure\n",
    "def string_features(S1, S2):\n",
    "    # your code\n",
    "    list1=S1.split()\n",
    "    list2=S2.split()\n",
    "    count=0\n",
    "    for l1 in list1:\n",
    "       if l1 in list2 :\n",
    "           count=count+1\n",
    "    l1_match=[l1  for l1 in list1 if l1 not in list2]\n",
    "    l2_match=[l2  for l2 in list2 if l2 not in list1]\n",
    "    return count, l1_match, l2_match\n",
    "\n",
    "S1= \"the first column F will contain only 5 uniques values\"\n",
    "S2= \"the second column S will contain only 3 uniques values\"\n",
    "a,b,c = string_features(S1, S2)\n",
    "print(a,b,c)"
   ]
  },
  {
   "cell_type": "markdown",
   "metadata": {
    "id": "XefXVEjCB-lI"
   },
   "source": [
    "\n",
    "<h3> Q10: Given two sentances S1, S2</h3>\n",
    "You will be given a list of lists, each sublist will be of length 2 i.e. [[x,y],[p,q],[l,m]..[r,s]]\n",
    "consider its like a martrix of n rows and two columns\n",
    "\n",
    "a. the first column Y will contain interger values <br>\n",
    "b. the second column $Y_{score}$ will be having float values <br>\n",
    "Your task is to find the value of $f(Y,Y_{score}) = -1*\\frac{1}{n}\\Sigma_{for each Y,Y_{score} pair}(Ylog10(Y_{score})+(1-Y)log10(1-Y_{score}))$ here n is the number of rows in the matrix\n",
    "<pre>\n",
    "Ex:\n",
    "[[1, 0.4], [0, 0.5], [0, 0.9], [0, 0.3], [0, 0.6], [1, 0.1], [1, 0.9], [1, 0.8]]\n",
    "output:\n",
    "0.4243099\n",
    "</pre>\n",
    "$\\frac{-1}{8}\\cdot((1\\cdot log_{10}(0.4)+0\\cdot log_{10}(0.6))+(0\\cdot log_{10}(0.5)+1\\cdot log_{10}(0.5)) + ... + (1\\cdot log_{10}(0.8)+0\\cdot log_{10}(0.2)) )$"
   ]
  },
  {
   "cell_type": "code",
   "execution_count": 32,
   "metadata": {
    "colab": {
     "base_uri": "https://localhost:8080/",
     "height": 34
    },
    "id": "N9zkagyNB-lJ",
    "outputId": "ff9752c7-3c2b-421e-c1ff-afc19e125e72"
   },
   "outputs": [
    {
     "name": "stdout",
     "output_type": "stream",
     "text": [
      "0.42430993457031635\n"
     ]
    }
   ],
   "source": [
    "\n",
    "#https://www.w3schools.com/python/ref_math_log10.asp\n",
    "import math\n",
    "# write your python code here\n",
    "# you can take the above example as sample input for your program to test\n",
    "# it should work for any general input try not to hard code for only given input strings\n",
    "# you can free to change all these codes/structure\n",
    "def compute_log_loss(A):\n",
    "    # your code\n",
    "    \n",
    "    y_yscore=A\n",
    "    sum=0\n",
    "    for i in range(len(y_yscore)):\n",
    "        Y_pred=y_yscore[i][1]\n",
    "        Y_actual=y_yscore[i][0]\n",
    "        sum=sum+(Y_actual*math.log10(Y_pred)+(1-Y_actual)*math.log10(1-Y_pred))\n",
    "        logloss=-1*sum/len(y_yscore)\n",
    "\n",
    "    return logloss\n",
    "\n",
    "A = [[1, 0.4], [0, 0.5], [0, 0.9], [0, 0.3], [0, 0.6], [1, 0.1], [1, 0.9], [1, 0.8]]\n",
    "loss = compute_log_loss(A)\n",
    "print(loss)"
   ]
  }
 ],
 "metadata": {
  "colab": {
   "collapsed_sections": [],
   "name": "Copy of 1.Python Assignment.ipynb",
   "provenance": []
  },
  "kernelspec": {
   "display_name": "Python 3",
   "language": "python",
   "name": "python3"
  },
  "language_info": {
   "codemirror_mode": {
    "name": "ipython",
    "version": 3
   },
   "file_extension": ".py",
   "mimetype": "text/x-python",
   "name": "python",
   "nbconvert_exporter": "python",
   "pygments_lexer": "ipython3",
   "version": "3.8.3"
  }
 },
 "nbformat": 4,
 "nbformat_minor": 1
}
